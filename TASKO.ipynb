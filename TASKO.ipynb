{
  "nbformat": 4,
  "nbformat_minor": 0,
  "metadata": {
    "colab": {
      "name": "Copy of Untitled3.ipynb",
      "provenance": [],
      "collapsed_sections": [],
      "authorship_tag": "ABX9TyOqEzmu81gozgpx0QePwJ/6",
      "include_colab_link": true
    },
    "kernelspec": {
      "name": "python3",
      "display_name": "Python 3"
    },
    "language_info": {
      "name": "python"
    }
  },
  "cells": [
    {
      "cell_type": "markdown",
      "metadata": {
        "id": "view-in-github",
        "colab_type": "text"
      },
      "source": [
        "<a href=\"https://colab.research.google.com/github/Vinothkanna93/PYTHON3-ASSIGNMENT-D25/blob/main/TASKO.ipynb\" target=\"_parent\"><img src=\"https://colab.research.google.com/assets/colab-badge.svg\" alt=\"Open In Colab\"/></a>"
      ]
    },
    {
      "cell_type": "code",
      "execution_count": 1,
      "metadata": {
        "colab": {
          "base_uri": "https://localhost:8080/"
        },
        "id": "y89OQrUtRHcX",
        "outputId": "73dc8f99-2da4-4c95-9ddb-4cc7f27945c2"
      },
      "outputs": [
        {
          "output_type": "stream",
          "name": "stdout",
          "text": [
            "Please Enter your valid email address for registration \n",
            "vinothkanna@gmail.com\n",
            "YES - Your email id registered and use your email address as username\n",
            "Please create your password \n",
            "Po1@yu\n",
            "Password is valid\n"
          ]
        }
      ],
      "source": [
        "#EMAIL VALIDATION\n",
        "# REGISTRATION OF USERNAME\n",
        "print(\"Please Enter your valid email address for registration \")\n",
        "s = str(input())\n",
        "a = (s.count('@')==1 and s.count('&')<=1)\n",
        "count = 0\n",
        "for i in range(len(s)):\n",
        "    if s[i] == '@':\n",
        "        j = i+1\n",
        "        while True:\n",
        "            if s[j] == '.':\n",
        "                break\n",
        "            else:\n",
        "                count += 1\n",
        "                j += 1\n",
        "b = (count >= 4)\n",
        "count = 0\n",
        "for i in range(len(s)):\n",
        "    if s[i] == '@':\n",
        "        break\n",
        "    else:\n",
        "        count += 1\n",
        "c = (count >= 3)\n",
        "#print(c)\n",
        "d = (str(((s[::-1])[0:4])[::-1]) == '.com','.in')\n",
        "if (('@' in s) and a and b and c and d ):\n",
        "    print(\"YES - Your email id registered and use your email address as username\")\n",
        "else:\n",
        "    print(\"NO - Your email id is not valid  and please try again with valid email address\")\n",
        "print(\"Please create your password \")\n",
        "def password_check(passwd):\n",
        "      \n",
        "    SpecialSym =['$', '@', '#', '%''~', ':', \"'\", '+', '[', '\\\\', '@', '^', '{', '%', '(', '-', '\"', '*', '|', ',', '&', '<', '`', '}', '.', '_', '=', ']', '!', '>', ';', '?', '#', '$', ')', '/']\n",
        "    val = True\n",
        "      \n",
        "    if len(passwd) < 5:\n",
        "        print('length should be at least 5')\n",
        "        val = False\n",
        "          \n",
        "    if len(passwd) > 16:\n",
        "        print('length should be not be greater than 16')\n",
        "        val = False\n",
        "          \n",
        "    if not any(char.isdigit() for char in passwd):\n",
        "        print('Password should have at least one numeral')\n",
        "        val = False\n",
        "          \n",
        "    if not any(char.isupper() for char in passwd):\n",
        "        print('Password should have at least one uppercase letter')\n",
        "        val = False\n",
        "          \n",
        "    if not any(char.islower() for char in passwd):\n",
        "        print('Password should have at least one lowercase letter')\n",
        "        val = False\n",
        "          \n",
        "    if not any(char in SpecialSym for char in passwd):\n",
        "        print('Password should have at least one of the symbols $@#')\n",
        "        val = False\n",
        "    if val:\n",
        "        return val\n",
        "  \n",
        "# Main method\n",
        "def main():\n",
        "    passwd = input()\n",
        "      \n",
        "    if (password_check(passwd)):\n",
        "        print(\"Password is valid\")\n",
        "    else:\n",
        "        print(\"Invalid Password !!\")\n",
        "          \n",
        "# Driver Code        \n",
        "if __name__ == '__main__':\n",
        "    main()\n"
      ]
    }
  ]
}