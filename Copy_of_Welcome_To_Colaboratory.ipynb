{
  "cells": [
    {
      "cell_type": "markdown",
      "metadata": {
        "id": "view-in-github",
        "colab_type": "text"
      },
      "source": [
        "<a href=\"https://colab.research.google.com/github/Vinothkanna93/PYTHON3-ASSIGNMENT-D25/blob/main/Copy_of_Welcome_To_Colaboratory.ipynb\" target=\"_parent\"><img src=\"https://colab.research.google.com/assets/colab-badge.svg\" alt=\"Open In Colab\"/></a>"
      ]
    },
    {
      "cell_type": "code",
      "source": [
        "num = int(input(\"Enter a number: \"))\n",
        "if (num % 2) == 0:\n",
        "   print(\" Even\")\n",
        "else:\n",
        "   print(\" Odd\")\n"
      ],
      "metadata": {
        "id": "M4mosfFHICc6",
        "outputId": "972b7077-4492-4021-b0f1-ee6c136940c2",
        "colab": {
          "base_uri": "https://localhost:8080/"
        }
      },
      "execution_count": null,
      "outputs": [
        {
          "output_type": "stream",
          "name": "stdout",
          "text": [
            "Enter a number: 3\n",
            " Odd\n"
          ]
        }
      ]
    },
    {
      "cell_type": "code",
      "source": [
        "c = float(input())\n",
        "f = (c * 1.8) + 32\n",
        "print(f)\n"
      ],
      "metadata": {
        "outputId": "071a92db-3f96-403b-d3bd-d78b5fbbaa68",
        "colab": {
          "base_uri": "https://localhost:8080/"
        },
        "id": "K4TxbYRlIpLf"
      },
      "execution_count": null,
      "outputs": [
        {
          "output_type": "stream",
          "name": "stdout",
          "text": [
            "32\n",
            "89.6\n"
          ]
        }
      ]
    },
    {
      "cell_type": "code",
      "source": [
        "i = 0\n",
        "product = 1\n",
        "count = int(input(\"Enter the number of real numbers: \"))\n",
        "for i in range(count):\n",
        "  x = float(input(\"Enter a real number: \"))\n",
        "  product = product * x\n",
        "print(\"The product of the numbers is: \", product)"
      ],
      "metadata": {
        "id": "5t-uCTvpJigH",
        "outputId": "a04ee41a-3f71-41a9-a59f-7d48afe32123",
        "colab": {
          "base_uri": "https://localhost:8080/"
        }
      },
      "execution_count": null,
      "outputs": [
        {
          "output_type": "stream",
          "name": "stdout",
          "text": [
            "Enter the number of real numbers: 2\n",
            "Enter a real number: 1\n",
            "Enter a real number: 2\n",
            "The product of the numbers is:  2.0\n"
          ]
        }
      ]
    },
    {
      "cell_type": "code",
      "source": [
        "def recur_factorial(x):\n",
        "    if x == 1:\n",
        "        return 1\n",
        "    else:\n",
        "        return (x * recur_factorial(x - 1))\n",
        "num = int(input(\"Enter number: \"))\n",
        "print(recur_factorial(num))"
      ],
      "metadata": {
        "id": "Z4r1wciyMQEj",
        "outputId": "de3b846b-9a26-4dd3-a109-11663a94fa6f",
        "colab": {
          "base_uri": "https://localhost:8080/"
        }
      },
      "execution_count": null,
      "outputs": [
        {
          "output_type": "stream",
          "name": "stdout",
          "text": [
            "Enter number: 8\n",
            "40320\n"
          ]
        }
      ]
    },
    {
      "cell_type": "code",
      "source": [
        "def linear_Search(list, n, key):   \n",
        "    for i in range(0, n):  \n",
        "        if (list[i] == key):  \n",
        "            return i  \n",
        "    return -1  \n",
        "list = [1,4,5,6,7]  \n",
        "key = 7  \n",
        "n = len(list)  \n",
        "res = linear_Search(list, n, key)  \n",
        "if(res == -1):  \n",
        "    print(\"Element not found\")  \n",
        "else:  \n",
        "    print(\"Element found at index: \", res) "
      ],
      "metadata": {
        "colab": {
          "base_uri": "https://localhost:8080/"
        },
        "id": "-xDWe14bM5gz",
        "outputId": "42f73d1d-4d7d-4cc8-fa94-d407cb73e8e8"
      },
      "execution_count": null,
      "outputs": [
        {
          "output_type": "stream",
          "name": "stdout",
          "text": [
            "Element found at index:  4\n"
          ]
        }
      ]
    },
    {
      "cell_type": "code",
      "source": [
        ""
      ],
      "metadata": {
        "id": "NRjzwqd6Q_rZ"
      },
      "execution_count": null,
      "outputs": []
    },
    {
      "cell_type": "code",
      "source": [
        "\n",
        "def binary_search(list, n):  \n",
        "    low = 0  \n",
        "    high = len(list) - 1  \n",
        "    mid = 0  \n",
        "    while low <= high:  \n",
        "        mid = (high + low) // 2  \n",
        "        if list[mid] < n:  \n",
        "            low = mid + 1  \n",
        "        elif list[mid] > n:  \n",
        "            high = mid - 1    \n",
        "        else:  \n",
        "            return mid  \n",
        "    return -1  \n",
        "list = [12, 24, 32, 39, 45, 50, 54]  \n",
        "n = 45    \n",
        "result = binary_search(list, n)  \n",
        "if result != -1:  \n",
        "    print(\"Element is present at index\", str(result))  \n",
        "else:  \n",
        "    print(\"Element is not present in list\") "
      ],
      "metadata": {
        "colab": {
          "base_uri": "https://localhost:8080/"
        },
        "outputId": "9e683026-b3b8-4db3-f1dd-a18bfbeccb8c",
        "id": "KQLOUrR4RABH"
      },
      "execution_count": null,
      "outputs": [
        {
          "output_type": "stream",
          "name": "stdout",
          "text": [
            "Element is present at index 4\n"
          ]
        }
      ]
    },
    {
      "cell_type": "code",
      "source": [
        "n = int(input(\"Enter number of elements : \"))\n",
        "l = []\n",
        "new=[]\n",
        "d = 0\n",
        "for i in range(n):\n",
        "    l.append(int(input(\"Enter a number: \")))\n",
        "print(l)\n",
        "for i in l :\n",
        "    first = i\n",
        "    count=0\n",
        "    for x in l:\n",
        "        if x == first:\n",
        "            count+=1\n",
        "    new.append(count)\n",
        "k=new[0]\n",
        "for i in new:\n",
        "    if i >= k:\n",
        "        d = l[i]\n",
        "print(\"maximum number is\",d)"
      ],
      "metadata": {
        "id": "gPRghtRYVGxL",
        "outputId": "8d325077-beb6-45cc-c892-f7fee2832ceb",
        "colab": {
          "base_uri": "https://localhost:8080/"
        }
      },
      "execution_count": null,
      "outputs": [
        {
          "output_type": "stream",
          "name": "stdout",
          "text": [
            "Enter number of elements : 2\n",
            "Enter a number: 2\n",
            "Enter a number: 4\n",
            "[2, 4]\n",
            "maximum number is 4\n"
          ]
        }
      ]
    },
    {
      "cell_type": "code",
      "source": [
        "myList = [\"tree\",11,22,33,\"race\",22,33,11]\n",
        "myList.remove(22)\n",
        "myList"
      ],
      "metadata": {
        "id": "f4VKoadZWQct",
        "outputId": "8a17a9d8-0b1b-4f87-f3aa-fdb31d6b52dc",
        "colab": {
          "base_uri": "https://localhost:8080/"
        }
      },
      "execution_count": null,
      "outputs": [
        {
          "output_type": "execute_result",
          "data": {
            "text/plain": [
              "['tree', 11, 33, 'race', 22, 33, 11]"
            ]
          },
          "metadata": {},
          "execution_count": 43
        }
      ]
    },
    {
      "cell_type": "code",
      "source": [
        "a=[1,2,3,4,5,5]\n",
        "a.pop(2)"
      ],
      "metadata": {
        "id": "csvSvF97W7uq",
        "outputId": "2b62affe-d559-405b-b47e-735bc36264f2",
        "colab": {
          "base_uri": "https://localhost:8080/"
        }
      },
      "execution_count": null,
      "outputs": [
        {
          "output_type": "execute_result",
          "data": {
            "text/plain": [
              "3"
            ]
          },
          "metadata": {},
          "execution_count": 44
        }
      ]
    },
    {
      "cell_type": "code",
      "source": [
        "student_score = {   'Ritika': 5,\n",
        "                    'Sam': 7, \n",
        "                    'John': 10, \n",
        "                    'Aadi': 8}\n",
        "print(student_score)"
      ],
      "metadata": {
        "id": "2EXOqqhhXA4R",
        "outputId": "e7877596-598f-45a6-affe-9d4cec4009ec",
        "colab": {
          "base_uri": "https://localhost:8080/"
        }
      },
      "execution_count": null,
      "outputs": [
        {
          "output_type": "stream",
          "name": "stdout",
          "text": [
            "{'Ritika': 5, 'Sam': 7, 'John': 10, 'Aadi': 8}\n"
          ]
        }
      ]
    },
    {
      "cell_type": "code",
      "source": [
        "n = input(\"Enter Number to calculate sum and average\")\n",
        "n = int (n)\n",
        "totalNo = n\n",
        "sum=0\n",
        "while (n >= 0):\n",
        "    sum += n\n",
        "    n-=1    \n",
        "average  = sum / totalNo\n",
        "print (\"sum of \", totalNo ,\"using while loop \", sum)\n",
        "print (\"average of\", totalNo ,\"using while loop \", average)"
      ],
      "metadata": {
        "id": "_EXKE72FYIoe",
        "outputId": "aecf30ec-49df-4664-db2d-d06c21d16411",
        "colab": {
          "base_uri": "https://localhost:8080/"
        }
      },
      "execution_count": null,
      "outputs": [
        {
          "output_type": "stream",
          "name": "stdout",
          "text": [
            "Enter Number to calculate sum and average10\n",
            "sum of  10 using while loop  55\n",
            "average of 10 using while loop  5.5\n"
          ]
        }
      ]
    }
  ],
  "metadata": {
    "colab": {
      "collapsed_sections": [],
      "name": "Copy of Welcome To Colaboratory",
      "toc_visible": true,
      "provenance": [],
      "include_colab_link": true
    },
    "kernelspec": {
      "display_name": "Python 3",
      "name": "python3"
    }
  },
  "nbformat": 4,
  "nbformat_minor": 0
}